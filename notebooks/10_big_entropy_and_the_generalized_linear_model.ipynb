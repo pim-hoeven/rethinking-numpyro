{
 "cells": [
  {
   "cell_type": "markdown",
   "metadata": {},
   "source": [
    "# Chapter 10. Big Entropy and the Generalized Linear Model"
   ]
  },
  {
   "cell_type": "code",
   "execution_count": 3,
   "metadata": {},
   "outputs": [],
   "source": [
    "import os\n",
    "\n",
    "import arviz as az\n",
    "import matplotlib.pyplot as plt\n",
    "\n",
    "import jax.numpy as jnp\n",
    "from jax import random, tree_map, vmap\n",
    "\n",
    "import numpyro.distributions as dist\n",
    "\n",
    "if \"SVG\" in os.environ:\n",
    "    %config InlineBackend.figure_formats = [\"svg\"]\n",
    "az.style.use(\"arviz-darkgrid\")\n",
    "\n",
    "from src import utils\n",
    "\n",
    "%load_ext autoreload\n",
    "%autoreload 2\n"
   ]
  },
  {
   "cell_type": "markdown",
   "metadata": {},
   "source": [
    "### Code 10.1"
   ]
  },
  {
   "cell_type": "code",
   "execution_count": 4,
   "metadata": {},
   "outputs": [],
   "source": [
    "p = {}\n",
    "p[\"A\"] = jnp.array([0, 0, 10, 0, 0])\n",
    "p[\"B\"] = jnp.array([0, 1, 8, 1, 0])\n",
    "p[\"C\"] = jnp.array([0, 2, 6, 2, 0])\n",
    "p[\"D\"] = jnp.array([1, 2, 4, 2, 1])\n",
    "p[\"E\"] = jnp.array([2, 2, 2, 2, 2])"
   ]
  },
  {
   "cell_type": "markdown",
   "metadata": {},
   "source": [
    "### Code 10.2"
   ]
  },
  {
   "cell_type": "code",
   "execution_count": 5,
   "metadata": {},
   "outputs": [],
   "source": [
    "p_norm = tree_map(lambda q: q / jnp.sum(q), p)"
   ]
  },
  {
   "cell_type": "code",
   "execution_count": 6,
   "metadata": {},
   "outputs": [
    {
     "data": {
      "text/plain": [
       "{'A': Array([0., 0., 1., 0., 0.], dtype=float32),\n",
       " 'B': Array([0. , 0.1, 0.8, 0.1, 0. ], dtype=float32),\n",
       " 'C': Array([0. , 0.2, 0.6, 0.2, 0. ], dtype=float32),\n",
       " 'D': Array([0.1, 0.2, 0.4, 0.2, 0.1], dtype=float32),\n",
       " 'E': Array([0.2, 0.2, 0.2, 0.2, 0.2], dtype=float32)}"
      ]
     },
     "execution_count": 6,
     "metadata": {},
     "output_type": "execute_result"
    }
   ],
   "source": [
    "p_norm"
   ]
  },
  {
   "cell_type": "markdown",
   "metadata": {},
   "source": [
    "### Code 10.3"
   ]
  },
  {
   "cell_type": "code",
   "execution_count": 7,
   "metadata": {},
   "outputs": [
    {
     "data": {
      "text/plain": [
       "{'A': Array(-0., dtype=float32),\n",
       " 'B': Array(0.6390318, dtype=float32),\n",
       " 'C': Array(0.95027053, dtype=float32),\n",
       " 'D': Array(1.4708085, dtype=float32),\n",
       " 'E': Array(1.609438, dtype=float32)}"
      ]
     },
     "execution_count": 7,
     "metadata": {},
     "output_type": "execute_result"
    }
   ],
   "source": [
    "H = tree_map(lambda q: -jnp.sum(jnp.where(q == 0, 0, q * jnp.log(q))), p_norm)\n",
    "H"
   ]
  },
  {
   "cell_type": "markdown",
   "metadata": {},
   "source": [
    "### Code 10.4"
   ]
  },
  {
   "cell_type": "code",
   "execution_count": 11,
   "metadata": {},
   "outputs": [
    {
     "data": {
      "text/plain": [
       "<matplotlib.collections.PathCollection at 0x1436a0d60>"
      ]
     },
     "execution_count": 11,
     "metadata": {},
     "output_type": "execute_result"
    },
    {
     "data": {
      "image/png": "[encoded data removed]",
      "text/plain": [
       "<Figure size 720x480 with 1 Axes>"
      ]
     },
     "metadata": {},
     "output_type": "display_data"
    }
   ],
   "source": [
    "ways = jnp.array([1, 90, 1260, 37800, 113400])\n",
    "logwayspp = jnp.log(ways) / 10\n",
    "\n",
    "plt.scatter(H.values(), logwayspp)"
   ]
  },
  {
   "cell_type": "markdown",
   "metadata": {},
   "source": [
    "### Code 10.5"
   ]
  },
  {
   "cell_type": "code",
   "execution_count": 12,
   "metadata": {},
   "outputs": [
    {
     "data": {
      "text/plain": [
       "{1: Array(1., dtype=float32),\n",
       " 2: Array(1., dtype=float32),\n",
       " 3: Array(1., dtype=float32),\n",
       " 4: Array(1., dtype=float32)}"
      ]
     },
     "execution_count": 12,
     "metadata": {},
     "output_type": "execute_result"
    }
   ],
   "source": [
    "# build list of the candidate distributions\n",
    "p = {}\n",
    "p[1] = jnp.array([1 / 4, 1 / 4, 1 / 4, 1 / 4])\n",
    "p[2] = jnp.array([2 / 6, 1 / 6, 1 / 6, 2 / 6])\n",
    "p[3] = jnp.array([1 / 6, 2 / 6, 2 / 6, 1 / 6])\n",
    "p[4] = jnp.array([1 / 8, 4 / 8, 2 / 8, 1 / 8])\n",
    "\n",
    "# compute expected value of each\n",
    "tree_map(lambda p: jnp.sum(p * jnp.array([0, 1, 1, 2])), p)"
   ]
  },
  {
   "cell_type": "markdown",
   "metadata": {},
   "source": [
    "### Code 10.6"
   ]
  },
  {
   "cell_type": "code",
   "execution_count": 13,
   "metadata": {},
   "outputs": [
    {
     "data": {
      "text/plain": [
       "{1: Array(1.3862944, dtype=float32),\n",
       " 2: Array(1.3296614, dtype=float32),\n",
       " 3: Array(1.3296614, dtype=float32),\n",
       " 4: Array(1.2130076, dtype=float32)}"
      ]
     },
     "execution_count": 13,
     "metadata": {},
     "output_type": "execute_result"
    }
   ],
   "source": [
    "# compute entropy of each distribution\n",
    "tree_map(lambda p: -jnp.sum(p * jnp.log(p)), p)"
   ]
  },
  {
   "cell_type": "markdown",
   "metadata": {},
   "source": [
    "### Code 10.7"
   ]
  },
  {
   "cell_type": "code",
   "execution_count": 14,
   "metadata": {},
   "outputs": [
    {
     "data": {
      "text/plain": [
       "Array([0.09, 0.21, 0.21, 0.49], dtype=float32)"
      ]
     },
     "execution_count": 14,
     "metadata": {},
     "output_type": "execute_result"
    }
   ],
   "source": [
    "p = 0.7\n",
    "A = jnp.array([(1 - p) ** 2, p * (1 - p), (1 - p) * p, p ** 2])\n",
    "A"
   ]
  },
  {
   "cell_type": "markdown",
   "metadata": {},
   "source": [
    "### Code 10.8"
   ]
  },
  {
   "cell_type": "code",
   "execution_count": 15,
   "metadata": {},
   "outputs": [
    {
     "data": {
      "text/plain": [
       "Array(1.2217286, dtype=float32)"
      ]
     },
     "execution_count": 15,
     "metadata": {},
     "output_type": "execute_result"
    }
   ],
   "source": [
    "-jnp.sum(A * jnp.log(A))"
   ]
  },
  {
   "cell_type": "markdown",
   "metadata": {},
   "source": [
    "### Code 10.9"
   ]
  },
  {
   "cell_type": "code",
   "execution_count": 16,
   "metadata": {},
   "outputs": [],
   "source": [
    "def sim_p(i, G=1.4):\n",
    "    x123 = dist.Uniform().sample(random.PRNGKey(i), (3,))\n",
    "    x4 = (G * jnp.sum(x123, keepdims=True) - x123[1] - x123[2]) / (2 - G)\n",
    "    z = jnp.sum(jnp.concatenate([x123, x4]))\n",
    "    p = jnp.concatenate([x123, x4]) / z\n",
    "    return {\"H\": -jnp.sum(p * jnp.log(p)), \"p\": p}"
   ]
  },
  {
   "cell_type": "markdown",
   "metadata": {},
   "source": [
    "### Code 10.10"
   ]
  },
  {
   "cell_type": "code",
   "execution_count": 17,
   "metadata": {},
   "outputs": [
    {
     "data": {
      "image/png": "[encoded data removed]",
      "text/plain": [
       "<Figure size 720x480 with 1 Axes>"
      ]
     },
     "metadata": {},
     "output_type": "display_data"
    }
   ],
   "source": [
    "H = vmap(lambda i: sim_p(i, G=1.4))(jnp.arange(int(1e5)))\n",
    "az.plot_kde(H[\"H\"], bw=0.25)\n",
    "plt.show()"
   ]
  },
  {
   "cell_type": "markdown",
   "metadata": {},
   "source": [
    "### Code 10.11"
   ]
  },
  {
   "cell_type": "code",
   "execution_count": 18,
   "metadata": {},
   "outputs": [],
   "source": [
    "entropies = H[\"H\"]\n",
    "distributions = H[\"p\"]"
   ]
  },
  {
   "cell_type": "markdown",
   "metadata": {},
   "source": [
    "### Code 10.12"
   ]
  },
  {
   "cell_type": "code",
   "execution_count": 19,
   "metadata": {},
   "outputs": [
    {
     "data": {
      "text/plain": [
       "Array(1.2217282, dtype=float32)"
      ]
     },
     "execution_count": 19,
     "metadata": {},
     "output_type": "execute_result"
    }
   ],
   "source": [
    "jnp.max(entropies)"
   ]
  },
  {
   "cell_type": "markdown",
   "metadata": {},
   "source": [
    "### Code 10.13"
   ]
  },
  {
   "cell_type": "code",
   "execution_count": 20,
   "metadata": {},
   "outputs": [
    {
     "data": {
      "text/plain": [
       "Array([0.09018064, 0.20994426, 0.20969449, 0.49018067], dtype=float32)"
      ]
     },
     "execution_count": 20,
     "metadata": {},
     "output_type": "execute_result"
    }
   ],
   "source": [
    "distributions[jnp.argmax(entropies)]"
   ]
  },
  {
   "cell_type": "code",
   "execution_count": null,
   "metadata": {},
   "outputs": [],
   "source": []
  }
 ],
 "metadata": {
  "anaconda-cloud": {},
  "kernelspec": {
   "display_name": "Python 3 (ipykernel)",
   "language": "python",
   "name": "python3"
  },
  "language_info": {
   "codemirror_mode": {
    "name": "ipython",
    "version": 3
   },
   "file_extension": ".py",
   "mimetype": "text/x-python",
   "name": "python",
   "nbconvert_exporter": "python",
   "pygments_lexer": "ipython3",
   "version": "3.9.16"
  }
 },
 "nbformat": 4,
 "nbformat_minor": 4
}
