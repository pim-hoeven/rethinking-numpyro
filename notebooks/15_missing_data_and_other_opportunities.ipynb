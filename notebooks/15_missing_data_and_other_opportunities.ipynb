{
 "cells": [
  {
   "cell_type": "markdown",
   "metadata": {},
   "source": [
    "# Chapter 15. Missing Data and Other Opportunities"
   ]
  },
  {
   "cell_type": "code",
   "execution_count": 1,
   "metadata": {},
   "outputs": [],
   "source": [
    "import math\n",
    "import os\n",
    "\n",
    "import arviz as az\n",
    "import matplotlib.pyplot as plt\n",
    "import numpy as np\n",
    "import pandas as pd\n",
    "\n",
    "import jax.numpy as jnp\n",
    "from jax import ops, random, vmap\n",
    "from jax.scipy.special import expit\n",
    "\n",
    "import numpyro\n",
    "import numpyro.distributions as dist\n",
    "from numpyro.diagnostics import print_summary\n",
    "from numpyro.distributions import constraints\n",
    "from numpyro.infer import MCMC, NUTS, init_to_value\n",
    "\n",
    "if \"SVG\" in os.environ:\n",
    "    %config InlineBackend.figure_formats = [\"svg\"]\n",
    "az.style.use(\"arviz-darkgrid\")\n",
    "numpyro.set_host_device_count(4)"
   ]
  },
  {
   "cell_type": "markdown",
   "metadata": {},
   "source": [
    "### Code 15.1"
   ]
  },
  {
   "cell_type": "code",
   "execution_count": 2,
   "metadata": {},
   "outputs": [
    {
     "data": {
      "text/plain": [
       "Array(0.6641716, dtype=float32)"
      ]
     },
     "execution_count": 2,
     "metadata": {},
     "output_type": "execute_result"
    }
   ],
   "source": [
    "# simulate a pancake and return randomly ordered sides\n",
    "def sim_pancake(seed):\n",
    "    pancake = dist.Categorical(logits=jnp.ones(3)).sample(random.PRNGKey(2 * seed))\n",
    "    sides = jnp.array([1, 1, 1, 0, 0, 0]).reshape(3, 2).T[:, pancake]\n",
    "    return random.permutation(random.PRNGKey(2 * seed + 1), sides)\n",
    "\n",
    "\n",
    "# sim 10,000 pancakes\n",
    "pancakes = vmap(sim_pancake, out_axes=1)(jnp.arange(10000))\n",
    "up = pancakes[0]\n",
    "down = pancakes[1]\n",
    "\n",
    "# compute proportion 1/1 (BB) out of all 1/1 and 1/0\n",
    "num_11_10 = jnp.sum(up == 1)\n",
    "num_11 = jnp.sum((up == 1) & (down == 1))\n",
    "num_11 / num_11_10"
   ]
  },
  {
   "cell_type": "markdown",
   "metadata": {},
   "source": [
    "### Code 15.2"
   ]
  },
  {
   "cell_type": "code",
   "execution_count": 3,
   "metadata": {},
   "outputs": [
    {
     "data": {
      "image/png": "[encoded data removed]",
      "text/plain": [
       "<Figure size 720x480 with 1 Axes>"
      ]
     },
     "metadata": {},
     "output_type": "display_data"
    }
   ],
   "source": [
    "WaffleDivorce = pd.read_csv(\"../data/WaffleDivorce.csv\", sep=\";\")\n",
    "d = WaffleDivorce\n",
    "\n",
    "# points\n",
    "ax = az.plot_pair(\n",
    "    d[[\"MedianAgeMarriage\", \"Divorce\"]].to_dict(orient=\"list\"),\n",
    "#     scatter_kwargs=dict(mfc=\"none\"),\n",
    ")\n",
    "ax.set(ylim=(4, 15), xlabel=\"Median age marrage\", ylabel=\"Divorce rate\")\n",
    "\n",
    "# standard errors\n",
    "for i in range(d.shape[0]):\n",
    "    ci = d.Divorce[i] + jnp.array([-1, 1]) * d[\"Divorce SE\"][i]\n",
    "    x = d.MedianAgeMarriage[i]\n",
    "    plt.plot([x, x], ci, \"k\")"
   ]
  },
  {
   "cell_type": "markdown",
   "metadata": {},
   "source": [
    "### Code 15.3"
   ]
  },
  {
   "cell_type": "code",
   "execution_count": 5,
   "metadata": {},
   "outputs": [
    {
     "data": {
      "application/vnd.jupyter.widget-view+json": {
       "model_id": "ad28dbc223064c6f9be55603d74b9944",
       "version_major": 2,
       "version_minor": 0
      },
      "text/plain": [
       "  0%|          | 0/1000 [00:00<?, ?it/s]"
      ]
     },
     "metadata": {},
     "output_type": "display_data"
    },
    {
     "data": {
      "application/vnd.jupyter.widget-view+json": {
       "model_id": "09d39a3842d84be6829daab027506ceb",
       "version_major": 2,
       "version_minor": 0
      },
      "text/plain": [
       "  0%|          | 0/1000 [00:00<?, ?it/s]"
      ]
     },
     "metadata": {},
     "output_type": "display_data"
    },
    {
     "data": {
      "application/vnd.jupyter.widget-view+json": {
       "model_id": "0d322a181b6a4c27bd79f9df80bae174",
       "version_major": 2,
       "version_minor": 0
      },
      "text/plain": [
       "  0%|          | 0/1000 [00:00<?, ?it/s]"
      ]
     },
     "metadata": {},
     "output_type": "display_data"
    },
    {
     "data": {
      "application/vnd.jupyter.widget-view+json": {
       "model_id": "544f7e7171b846b884ae4410efaf510a",
       "version_major": 2,
       "version_minor": 0
      },
      "text/plain": [
       "  0%|          | 0/1000 [00:00<?, ?it/s]"
      ]
     },
     "metadata": {},
     "output_type": "display_data"
    }
   ],
   "source": [
    "dlist = dict(\n",
    "    D_obs=d.Divorce.pipe(lambda x: (x - x.mean()) / x.std()).values,\n",
    "    D_sd=d[\"Divorce SE\"].values / d.Divorce.std(),\n",
    "    M=d.Marriage.pipe(lambda x: (x - x.mean()) / x.std()).values,\n",
    "    A=d.MedianAgeMarriage.pipe(lambda x: (x - x.mean()) / x.std()).values,\n",
    "    N=d.shape[0],\n",
    ")\n",
    "\n",
    "\n",
    "def model(A, M, D_sd, D_obs, N):\n",
    "    a = numpyro.sample(\"a\", dist.Normal(0, 0.2))\n",
    "    bA = numpyro.sample(\"bA\", dist.Normal(0, 0.5))\n",
    "    bM = numpyro.sample(\"bM\", dist.Normal(0, 0.5))\n",
    "    sigma = numpyro.sample(\"sigma\", dist.Exponential(1))\n",
    "    mu = a + bA * A + bM * M\n",
    "    D_true = numpyro.sample(\"D_true\", dist.Normal(mu, sigma))\n",
    "    numpyro.sample(\"D_obs\", dist.Normal(D_true, D_sd), obs=D_obs)\n",
    "\n",
    "\n",
    "m15_1 = MCMC(NUTS(model), num_warmup=500, num_samples=500, num_chains=4)\n",
    "m15_1.run(random.PRNGKey(0), **dlist)"
   ]
  },
  {
   "cell_type": "code",
   "execution_count": 7,
   "metadata": {},
   "outputs": [
    {
     "data": {
      "text/plain": [
       "1.8208139018873188"
      ]
     },
     "execution_count": 7,
     "metadata": {},
     "output_type": "execute_result"
    }
   ],
   "source": [
    "d.Divorce.std()"
   ]
  },
  {
   "cell_type": "markdown",
   "metadata": {},
   "source": [
    "### Code 15.4"
   ]
  },
  {
   "cell_type": "code",
   "execution_count": 8,
   "metadata": {},
   "outputs": [
    {
     "name": "stdout",
     "output_type": "stream",
     "text": [
      "\n",
      "                mean       std    median      5.5%     94.5%     n_eff     r_hat\n",
      " D_true[0]      1.17      0.36      1.16      0.60      1.73   3123.41      1.00\n",
      " D_true[1]      0.70      0.54      0.68     -0.18      1.54   4190.10      1.00\n",
      " D_true[2]      0.43      0.33      0.42     -0.10      0.93   3853.81      1.00\n",
      " D_true[3]      1.42      0.46      1.41      0.63      2.08   3220.14      1.00\n",
      " D_true[4]     -0.90      0.13     -0.90     -1.11     -0.72   6104.42      1.00\n",
      " D_true[5]      0.64      0.39      0.64     -0.00      1.26   4201.96      1.00\n",
      " D_true[6]     -1.36      0.35     -1.36     -1.93     -0.84   4751.94      1.00\n",
      " D_true[7]     -0.33      0.46     -0.33     -1.10      0.41   4137.09      1.00\n",
      " D_true[8]     -1.89      0.60     -1.89     -2.93     -1.01   2618.20      1.00\n",
      " D_true[9]     -0.62      0.17     -0.62     -0.88     -0.34   4491.34      1.00\n",
      "D_true[10]      0.76      0.28      0.76      0.28      1.18   4187.64      1.00\n",
      "D_true[11]     -0.53      0.49     -0.53     -1.26      0.27   3620.92      1.00\n",
      "D_true[12]      0.18      0.50      0.19     -0.53      1.06   1984.09      1.00\n",
      "D_true[13]     -0.87      0.22     -0.87     -1.19     -0.46   5998.46      1.00\n",
      "D_true[14]      0.56      0.30      0.56      0.10      1.07   4297.95      1.00\n",
      "D_true[15]      0.28      0.38      0.28     -0.32      0.86   4835.36      1.00\n",
      "D_true[16]      0.50      0.39      0.50     -0.10      1.13   4876.99      1.00\n",
      "D_true[17]      1.26      0.33      1.25      0.74      1.79   3539.43      1.00\n",
      "D_true[18]      0.43      0.38      0.42     -0.23      1.01   4916.82      1.00\n",
      "D_true[19]      0.38      0.54      0.36     -0.44      1.26   2297.45      1.00\n",
      "D_true[20]     -0.55      0.31     -0.56     -1.08     -0.09   3895.64      1.00\n",
      "D_true[21]     -1.10      0.25     -1.10     -1.50     -0.69   3807.92      1.00\n",
      "D_true[22]     -0.26      0.26     -0.26     -0.71      0.11   3944.63      1.00\n",
      "D_true[23]     -1.00      0.30     -1.00     -1.46     -0.51   3736.15      1.00\n",
      "D_true[24]      0.42      0.40      0.42     -0.15      1.08   4791.80      1.00\n",
      "D_true[25]     -0.03      0.31     -0.03     -0.54      0.47   4157.72      1.00\n",
      "D_true[26]     -0.02      0.50     -0.02     -0.77      0.78   4704.10      1.00\n",
      "D_true[27]     -0.14      0.39     -0.14     -0.75      0.51   4035.77      1.00\n",
      "D_true[28]     -0.26      0.50     -0.26     -1.02      0.55   3399.43      1.00\n",
      "D_true[29]     -1.80      0.24     -1.80     -2.19     -1.43   3761.71      1.00\n",
      "D_true[30]      0.18      0.40      0.17     -0.47      0.79   3819.23      1.00\n",
      "D_true[31]     -1.66      0.17     -1.66     -1.94     -1.40   5638.71      1.00\n",
      "D_true[32]      0.12      0.23      0.12     -0.26      0.47   3826.27      1.00\n",
      "D_true[33]     -0.05      0.51     -0.03     -0.83      0.77   3107.20      1.00\n",
      "D_true[34]     -0.12      0.24     -0.12     -0.47      0.28   5698.12      1.00\n",
      "D_true[35]      1.27      0.41      1.27      0.65      1.94   5226.21      1.00\n",
      "D_true[36]      0.23      0.35      0.25     -0.34      0.81   4573.77      1.00\n",
      "D_true[37]     -1.02      0.21     -1.02     -1.33     -0.65   4595.32      1.00\n",
      "D_true[38]     -0.91      0.53     -0.91     -1.72     -0.06   2898.55      1.00\n",
      "D_true[39]     -0.67      0.32     -0.67     -1.17     -0.16   3949.39      1.00\n",
      "D_true[40]      0.24      0.56      0.25     -0.64      1.10   5127.43      1.00\n",
      "D_true[41]      0.74      0.33      0.73      0.20      1.25   3277.80      1.00\n",
      "D_true[42]      0.20      0.18      0.20     -0.09      0.50   6144.07      1.00\n",
      "D_true[43]      0.81      0.43      0.82      0.08      1.45   2758.02      1.00\n",
      "D_true[44]     -0.41      0.53     -0.41     -1.28      0.45   3577.15      1.00\n",
      "D_true[45]     -0.39      0.25     -0.39     -0.80     -0.01   4514.13      1.00\n",
      "D_true[46]      0.14      0.30      0.14     -0.33      0.64   5389.93      1.00\n",
      "D_true[47]      0.56      0.46      0.56     -0.22      1.28   3759.11      1.00\n",
      "D_true[48]     -0.63      0.29     -0.63     -1.06     -0.16   3922.89      1.00\n",
      "D_true[49]      0.86      0.59      0.88     -0.06      1.77   2404.09      1.00\n",
      "         a     -0.05      0.10     -0.05     -0.21      0.09   2755.68      1.00\n",
      "        bA     -0.61      0.16     -0.62     -0.84     -0.35   2127.80      1.00\n",
      "        bM      0.05      0.16      0.05     -0.21      0.31   1703.06      1.00\n",
      "     sigma      0.58      0.10      0.58      0.42      0.75    784.89      1.00\n",
      "\n",
      "Number of divergences: 0\n"
     ]
    }
   ],
   "source": [
    "m15_1.print_summary(0.89)"
   ]
  },
  {
   "cell_type": "markdown",
   "metadata": {},
   "source": [
    "### Code 15.5"
   ]
  },
  {
   "cell_type": "code",
   "execution_count": 10,
   "metadata": {},
   "outputs": [
    {
     "data": {
      "application/vnd.jupyter.widget-view+json": {
       "model_id": "de1aaa8bee4c49839a2e7b030ff78700",
       "version_major": 2,
       "version_minor": 0
      },
      "text/plain": [
       "  0%|          | 0/1000 [00:00<?, ?it/s]"
      ]
     },
     "metadata": {},
     "output_type": "display_data"
    },
    {
     "data": {
      "application/vnd.jupyter.widget-view+json": {
       "model_id": "bc60b6bb54704460b3280d2b44ec01ef",
       "version_major": 2,
       "version_minor": 0
      },
      "text/plain": [
       "  0%|          | 0/1000 [00:00<?, ?it/s]"
      ]
     },
     "metadata": {},
     "output_type": "display_data"
    },
    {
     "data": {
      "application/vnd.jupyter.widget-view+json": {
       "model_id": "f5c13348895746089d6fee789ccbc550",
       "version_major": 2,
       "version_minor": 0
      },
      "text/plain": [
       "  0%|          | 0/1000 [00:00<?, ?it/s]"
      ]
     },
     "metadata": {},
     "output_type": "display_data"
    },
    {
     "data": {
      "application/vnd.jupyter.widget-view+json": {
       "model_id": "015c223303424fbca7d7f40a4f30a968",
       "version_major": 2,
       "version_minor": 0
      },
      "text/plain": [
       "  0%|          | 0/1000 [00:00<?, ?it/s]"
      ]
     },
     "metadata": {},
     "output_type": "display_data"
    }
   ],
   "source": [
    "dlist = dict(\n",
    "    D_obs=d.Divorce.pipe(lambda x: (x - x.mean()) / x.std()).values,\n",
    "    D_sd=d[\"Divorce SE\"].values / d.Divorce.std(),\n",
    "    M_obs=d.Marriage.pipe(lambda x: (x - x.mean()) / x.std()).values,\n",
    "    M_sd=d[\"Marriage SE\"].values / d.Marriage.std(),\n",
    "    A=d.MedianAgeMarriage.pipe(lambda x: (x - x.mean()) / x.std()).values,\n",
    "    N=d.shape[0],\n",
    ")\n",
    "\n",
    "\n",
    "def model(A, M_sd, M_obs, D_sd, D_obs, N):\n",
    "    a = numpyro.sample(\"a\", dist.Normal(0, 0.2))\n",
    "    bA = numpyro.sample(\"bA\", dist.Normal(0, 0.5))\n",
    "    bM = numpyro.sample(\"bM\", dist.Normal(0, 0.5))\n",
    "    sigma = numpyro.sample(\"sigma\", dist.Exponential(1))\n",
    "    M_est = numpyro.sample(\"M_est\", dist.Normal(0, 1).expand([N]))\n",
    "    numpyro.sample(\"M_obs\", dist.Normal(M_est, M_sd), obs=M_obs)\n",
    "    mu = a + bA * A + bM * M_est\n",
    "    D_est = numpyro.sample(\"D_est\", dist.Normal(mu, sigma))\n",
    "    numpyro.sample(\"D_obs\", dist.Normal(D_est, D_sd), obs=D_obs)\n",
    "\n",
    "\n",
    "m15_2 = MCMC(NUTS(model), num_warmup=500, num_samples=500, num_chains=4)\n",
    "m15_2.run(random.PRNGKey(0), **dlist)"
   ]
  },
  {
   "cell_type": "markdown",
   "metadata": {},
   "source": [
    "### Code 15.6"
   ]
  },
  {
   "cell_type": "code",
   "execution_count": 11,
   "metadata": {},
   "outputs": [
    {
     "data": {
      "image/png": "[encoded data removed]",
      "text/plain": [
       "<Figure size 720x480 with 1 Axes>"
      ]
     },
     "metadata": {},
     "output_type": "display_data"
    }
   ],
   "source": [
    "post = m15_2.get_samples()\n",
    "D_est = jnp.mean(post[\"D_est\"], 0)\n",
    "M_est = jnp.mean(post[\"M_est\"], 0)\n",
    "plt.plot(dlist[\"M_obs\"], dlist[\"D_obs\"], \"bo\", alpha=0.5)\n",
    "plt.gca().set(xlabel=\"marriage rate (std)\", ylabel=\"divorce rate (std)\")\n",
    "plt.plot(M_est, D_est, \"ko\", mfc=\"none\")\n",
    "for i in range(d.shape[0]):\n",
    "    plt.plot([dlist[\"M_obs\"][i], M_est[i]], [dlist[\"D_obs\"][i], D_est[i]], \"k-\", lw=1)"
   ]
  },
  {
   "cell_type": "markdown",
   "metadata": {},
   "source": [
    "### Code 15.7"
   ]
  },
  {
   "cell_type": "code",
   "execution_count": 12,
   "metadata": {},
   "outputs": [],
   "source": [
    "N = 500\n",
    "A = dist.Normal().sample(random.PRNGKey(0), (N,))\n",
    "M = dist.Normal(-A).sample(random.PRNGKey(1))\n",
    "D = dist.Normal(A).sample(random.PRNGKey(2))\n",
    "A_obs = dist.Normal(A).sample(random.PRNGKey(3))"
   ]
  },
  {
   "cell_type": "markdown",
   "metadata": {},
   "source": [
    "### Code 15.8"
   ]
  },
  {
   "cell_type": "code",
   "execution_count": 13,
   "metadata": {},
   "outputs": [],
   "source": [
    "N = 100\n",
    "S = dist.Normal().sample(random.PRNGKey(0), (N,))\n",
    "H = dist.Binomial(10, expit(S)).sample(random.PRNGKey(1))"
   ]
  },
  {
   "cell_type": "markdown",
   "metadata": {},
   "source": [
    "### Code 15.9"
   ]
  },
  {
   "cell_type": "code",
   "execution_count": 14,
   "metadata": {},
   "outputs": [],
   "source": [
    "D = dist.Bernoulli(0.5).sample(random.PRNGKey(2), (N,))  # dogs completely random\n",
    "Hm = jnp.where(D == 1, jnp.nan, H)"
   ]
  },
  {
   "cell_type": "markdown",
   "metadata": {},
   "source": [
    "### Code 15.10"
   ]
  },
  {
   "cell_type": "code",
   "execution_count": 15,
   "metadata": {},
   "outputs": [],
   "source": [
    "D = jnp.where(S > 0, 1, 0)\n",
    "Hm = jnp.where(D == 1, jnp.nan, H)"
   ]
  },
  {
   "cell_type": "markdown",
   "metadata": {},
   "source": [
    "### Code 15.11"
   ]
  },
  {
   "cell_type": "code",
   "execution_count": 16,
   "metadata": {},
   "outputs": [],
   "source": [
    "with numpyro.handlers.seed(rng_seed=501):\n",
    "    N = 1000\n",
    "    X = numpyro.sample(\"X\", dist.Normal().expand([N]))\n",
    "    S = numpyro.sample(\"S\", dist.Normal().expand([N]))\n",
    "    H = numpyro.sample(\"H\", dist.Binomial(10, logits=2 + S - 2 * X))\n",
    "    D = jnp.where(X > 1, 1, 0)\n",
    "    Hm = jnp.where(D == 1, jnp.nan, H)"
   ]
  },
  {
   "cell_type": "markdown",
   "metadata": {},
   "source": [
    "### Code 15.12"
   ]
  },
  {
   "cell_type": "code",
   "execution_count": 17,
   "metadata": {},
   "outputs": [
    {
     "data": {
      "application/vnd.jupyter.widget-view+json": {
       "model_id": "fe227e4d87a74d8fb76381ed1c32be2f",
       "version_major": 2,
       "version_minor": 0
      },
      "text/plain": [
       "  0%|          | 0/1000 [00:00<?, ?it/s]"
      ]
     },
     "metadata": {},
     "output_type": "display_data"
    },
    {
     "data": {
      "application/vnd.jupyter.widget-view+json": {
       "model_id": "c5effa12b75e4733b8755cfaf85de0f6",
       "version_major": 2,
       "version_minor": 0
      },
      "text/plain": [
       "  0%|          | 0/1000 [00:00<?, ?it/s]"
      ]
     },
     "metadata": {},
     "output_type": "display_data"
    },
    {
     "data": {
      "application/vnd.jupyter.widget-view+json": {
       "model_id": "becd025908be4a769c9e55924b1586dd",
       "version_major": 2,
       "version_minor": 0
      },
      "text/plain": [
       "  0%|          | 0/1000 [00:00<?, ?it/s]"
      ]
     },
     "metadata": {},
     "output_type": "display_data"
    },
    {
     "data": {
      "application/vnd.jupyter.widget-view+json": {
       "model_id": "5c361683591f4877b26a30fec13a6295",
       "version_major": 2,
       "version_minor": 0
      },
      "text/plain": [
       "  0%|          | 0/1000 [00:00<?, ?it/s]"
      ]
     },
     "metadata": {},
     "output_type": "display_data"
    },
    {
     "name": "stdout",
     "output_type": "stream",
     "text": [
      "\n",
      "                mean       std    median      5.0%     95.0%     n_eff     r_hat\n",
      "         a      1.32      0.03      1.32      1.28      1.36   1265.58      1.00\n",
      "        bS      0.62      0.03      0.62      0.58      0.67   1331.00      1.00\n",
      "\n",
      "Number of divergences: 0\n"
     ]
    }
   ],
   "source": [
    "dat_list = dict(H=H, S=S)\n",
    "\n",
    "\n",
    "def model(S, H):\n",
    "    a = numpyro.sample(\"a\", dist.Normal(0, 1))\n",
    "    bS = numpyro.sample(\"bS\", dist.Normal(0, 0.5))\n",
    "    logit_p = a + bS * S\n",
    "    numpyro.sample(\"H\", dist.Binomial(10, logits=logit_p), obs=H)\n",
    "\n",
    "\n",
    "m15_3 = MCMC(NUTS(model), num_warmup=500, num_samples=500, num_chains=4)\n",
    "m15_3.run(random.PRNGKey(0), **dat_list)\n",
    "m15_3.print_summary()"
   ]
  },
  {
   "cell_type": "markdown",
   "metadata": {},
   "source": [
    "### Code 15.13"
   ]
  },
  {
   "cell_type": "code",
   "execution_count": 19,
   "metadata": {},
   "outputs": [
    {
     "data": {
      "application/vnd.jupyter.widget-view+json": {
       "model_id": "67f6c39b991b4a059faa6d34ef4103bd",
       "version_major": 2,
       "version_minor": 0
      },
      "text/plain": [
       "  0%|          | 0/1000 [00:00<?, ?it/s]"
      ]
     },
     "metadata": {},
     "output_type": "display_data"
    },
    {
     "data": {
      "application/vnd.jupyter.widget-view+json": {
       "model_id": "c72fdf03694b4ceca6cd104c9e7c7f51",
       "version_major": 2,
       "version_minor": 0
      },
      "text/plain": [
       "  0%|          | 0/1000 [00:00<?, ?it/s]"
      ]
     },
     "metadata": {},
     "output_type": "display_data"
    },
    {
     "data": {
      "application/vnd.jupyter.widget-view+json": {
       "model_id": "f8c8ec49bfd2438b9f13da365e93b127",
       "version_major": 2,
       "version_minor": 0
      },
      "text/plain": [
       "  0%|          | 0/1000 [00:00<?, ?it/s]"
      ]
     },
     "metadata": {},
     "output_type": "display_data"
    },
    {
     "data": {
      "application/vnd.jupyter.widget-view+json": {
       "model_id": "1735756cf681412b832a956f44b91102",
       "version_major": 2,
       "version_minor": 0
      },
      "text/plain": [
       "  0%|          | 0/1000 [00:00<?, ?it/s]"
      ]
     },
     "metadata": {},
     "output_type": "display_data"
    },
    {
     "name": "stdout",
     "output_type": "stream",
     "text": [
      "\n",
      "                mean       std    median      5.0%     95.0%     n_eff     r_hat\n",
      "         a      1.92      0.03      1.92      1.86      1.97   1094.90      1.00\n",
      "        bS      0.73      0.03      0.73      0.67      0.78   1136.51      1.00\n",
      "\n",
      "Number of divergences: 0\n"
     ]
    }
   ],
   "source": [
    "dat_list0 = dict(H=H[D == 0], S=S[D == 0])\n",
    "\n",
    "\n",
    "def model(S, H):\n",
    "    a = numpyro.sample(\"a\", dist.Normal(0, 1))\n",
    "    bS = numpyro.sample(\"bS\", dist.Normal(0, 0.5))\n",
    "    logit_p = a + bS * S\n",
    "    numpyro.sample(\"H\", dist.Binomial(10, logits=logit_p), obs=H)\n",
    "\n",
    "\n",
    "m15_4 = MCMC(NUTS(model), num_warmup=500, num_samples=500, num_chains=4)\n",
    "m15_4.run(random.PRNGKey(0), **dat_list0)\n",
    "m15_4.print_summary()"
   ]
  },
  {
   "cell_type": "markdown",
   "metadata": {},
   "source": [
    "### Code 15.14"
   ]
  },
  {
   "cell_type": "code",
   "execution_count": 21,
   "metadata": {},
   "outputs": [],
   "source": [
    "D = jnp.where(jnp.abs(X) < 1, 1, 0)"
   ]
  },
  {
   "cell_type": "markdown",
   "metadata": {},
   "source": [
    "### Code 15.15"
   ]
  },
  {
   "cell_type": "code",
   "execution_count": 23,
   "metadata": {},
   "outputs": [],
   "source": [
    "N = 100\n",
    "S = dist.Normal().sample(random.PRNGKey(0), (N,))\n",
    "H = dist.Binomial(10, logits=S).sample(random.PRNGKey(1))\n",
    "D = jnp.where(H < 5, 1, 0)\n",
    "Hm = jnp.where(D == 1, jnp.nan, H)"
   ]
  },
  {
   "cell_type": "code",
   "execution_count": 24,
   "metadata": {},
   "outputs": [
    {
     "data": {
      "application/vnd.jupyter.widget-view+json": {
       "model_id": "bf60f1c293b44011a18f8841937b847d",
       "version_major": 2,
       "version_minor": 0
      },
      "text/plain": [
       "  0%|          | 0/1000 [00:00<?, ?it/s]"
      ]
     },
     "metadata": {},
     "output_type": "display_data"
    },
    {
     "data": {
      "application/vnd.jupyter.widget-view+json": {
       "model_id": "310b06c2fdff40208a6aa3c1699bac53",
       "version_major": 2,
       "version_minor": 0
      },
      "text/plain": [
       "  0%|          | 0/1000 [00:00<?, ?it/s]"
      ]
     },
     "metadata": {},
     "output_type": "display_data"
    },
    {
     "data": {
      "application/vnd.jupyter.widget-view+json": {
       "model_id": "eed29ca88f2b4b6c8ab4251b980343bc",
       "version_major": 2,
       "version_minor": 0
      },
      "text/plain": [
       "  0%|          | 0/1000 [00:00<?, ?it/s]"
      ]
     },
     "metadata": {},
     "output_type": "display_data"
    },
    {
     "data": {
      "application/vnd.jupyter.widget-view+json": {
       "model_id": "6b5eb28826264d00a4641595578993cd",
       "version_major": 2,
       "version_minor": 0
      },
      "text/plain": [
       "  0%|          | 0/1000 [00:00<?, ?it/s]"
      ]
     },
     "metadata": {},
     "output_type": "display_data"
    },
    {
     "name": "stdout",
     "output_type": "stream",
     "text": [
      "\n",
      "                mean       std    median      5.0%     95.0%     n_eff     r_hat\n",
      "         a      0.34      0.12      0.34      0.16      0.55    937.54      1.00\n",
      "        bS      0.74      0.13      0.73      0.52      0.94   1077.28      1.00\n",
      "\n",
      "Number of divergences: 0\n"
     ]
    }
   ],
   "source": [
    "dat_list0 = dict(H=H[D == 0], S=S[D == 0])\n",
    "\n",
    "def model(S, H):\n",
    "    a = numpyro.sample(\"a\", dist.Normal(0, 1))\n",
    "    bS = numpyro.sample(\"bS\", dist.Normal(0, 0.5))\n",
    "    logit_p = a + bS * S\n",
    "    numpyro.sample(\"H\", dist.Binomial(10, logits=logit_p), obs=H)\n",
    "\n",
    "\n",
    "m15_4b = MCMC(NUTS(model), num_warmup=500, num_samples=500, num_chains=4)\n",
    "m15_4b.run(random.PRNGKey(0), **dat_list0)\n",
    "m15_4b.print_summary()"
   ]
  },
  {
   "cell_type": "markdown",
   "metadata": {},
   "source": [
    "### Code 15.16"
   ]
  },
  {
   "cell_type": "code",
   "execution_count": 25,
   "metadata": {},
   "outputs": [],
   "source": [
    "milk = pd.read_csv(\"../data/milk.csv\", sep=\";\")\n",
    "d = milk\n",
    "d[\"neocortex.prop\"] = d[\"neocortex.perc\"] / 100\n",
    "d[\"logmass\"] = d.mass.apply(math.log)"
   ]
  },
  {
   "cell_type": "markdown",
   "metadata": {},
   "source": [
    "### Code 15.17"
   ]
  },
  {
   "cell_type": "code",
   "execution_count": 35,
   "metadata": {},
   "outputs": [
    {
     "data": {
      "application/vnd.jupyter.widget-view+json": {
       "model_id": "096d06bca88149dbab5c2027754647d9",
       "version_major": 2,
       "version_minor": 0
      },
      "text/plain": [
       "  0%|          | 0/1000 [00:00<?, ?it/s]"
      ]
     },
     "metadata": {},
     "output_type": "display_data"
    },
    {
     "data": {
      "application/vnd.jupyter.widget-view+json": {
       "model_id": "8e54dfb24ccd464bb4269d7ae375b47c",
       "version_major": 2,
       "version_minor": 0
      },
      "text/plain": [
       "  0%|          | 0/1000 [00:00<?, ?it/s]"
      ]
     },
     "metadata": {},
     "output_type": "display_data"
    },
    {
     "data": {
      "application/vnd.jupyter.widget-view+json": {
       "model_id": "d3f5e94003b4442c95c60291e1b16b35",
       "version_major": 2,
       "version_minor": 0
      },
      "text/plain": [
       "  0%|          | 0/1000 [00:00<?, ?it/s]"
      ]
     },
     "metadata": {},
     "output_type": "display_data"
    },
    {
     "data": {
      "application/vnd.jupyter.widget-view+json": {
       "model_id": "f5330747b7ff4942943fa7d5fec21068",
       "version_major": 2,
       "version_minor": 0
      },
      "text/plain": [
       "  0%|          | 0/1000 [00:00<?, ?it/s]"
      ]
     },
     "metadata": {},
     "output_type": "display_data"
    }
   ],
   "source": [
    "dat_list = dict(\n",
    "    K=d[\"kcal.per.g\"].pipe(lambda x: (x - x.mean()) / x.std()).values,\n",
    "    B=d[\"neocortex.prop\"].pipe(lambda x: (x - x.mean()) / x.std()).values,\n",
    "    M=d.logmass.pipe(lambda x: (x - x.mean()) / x.std()).values,\n",
    ")\n",
    "\n",
    "\n",
    "def model(B, M, K):\n",
    "    a = numpyro.sample(\"a\", dist.Normal(0, 0.5))\n",
    "    nu = numpyro.sample(\"nu\", dist.Normal(0, 0.5))\n",
    "    bB = numpyro.sample(\"bB\", dist.Normal(0, 0.5))\n",
    "    bM = numpyro.sample(\"bM\", dist.Normal(0, 0.5))\n",
    "    sigma_B = numpyro.sample(\"sigma_B\", dist.Exponential(1))\n",
    "    sigma = numpyro.sample(\"sigma\", dist.Exponential(1))\n",
    "\n",
    "    B_impute = numpyro.sample(\n",
    "        \"B_impute\", dist.Normal(0, 1).expand([int(np.isnan(B).sum())]).mask(False)\n",
    "    )\n",
    "    B = jnp.asarray(B).at[np.isnan(B)].set(B_impute)\n",
    "\n",
    "    numpyro.sample(\"B\", dist.Normal(nu, sigma_B), obs=B)\n",
    "    mu = a + bB * B + bM * M\n",
    "    numpyro.sample(\"K\", dist.Normal(mu, sigma), obs=K)\n",
    "\n",
    "\n",
    "m15_5 = MCMC(NUTS(model), num_warmup=500, num_samples=500, num_chains=4)\n",
    "m15_5.run(random.PRNGKey(0), **dat_list)"
   ]
  },
  {
   "cell_type": "markdown",
   "metadata": {},
   "source": [
    "### Code 15.18"
   ]
  },
  {
   "cell_type": "code",
   "execution_count": 36,
   "metadata": {},
   "outputs": [
    {
     "name": "stdout",
     "output_type": "stream",
     "text": [
      "\n",
      "                  mean       std    median      5.5%     94.5%     n_eff     r_hat\n",
      " B_impute[0]     -0.51      0.94     -0.56     -1.86      1.03   1854.20      1.00\n",
      " B_impute[1]     -0.66      0.93     -0.67     -2.06      0.85   1444.99      1.00\n",
      " B_impute[2]     -0.70      0.94     -0.73     -2.27      0.76   1381.63      1.00\n",
      " B_impute[3]     -0.27      0.88     -0.28     -1.69      1.08   2158.49      1.00\n",
      " B_impute[4]      0.44      0.91      0.42     -0.89      1.97   1697.93      1.00\n",
      " B_impute[5]     -0.16      0.90     -0.18     -1.65      1.22   1920.87      1.00\n",
      " B_impute[6]      0.17      0.92      0.18     -1.33      1.61   2374.45      1.00\n",
      " B_impute[7]      0.25      0.86      0.27     -1.05      1.69   2112.04      1.00\n",
      " B_impute[8]      0.50      0.90      0.51     -0.96      1.88   1853.33      1.00\n",
      " B_impute[9]     -0.42      0.93     -0.42     -1.92      0.98   1819.56      1.00\n",
      "B_impute[10]     -0.26      0.92     -0.28     -1.73      1.15   1980.36      1.00\n",
      "B_impute[11]      0.14      0.94      0.16     -1.36      1.62   1838.15      1.00\n",
      "           a      0.03      0.17      0.03     -0.24      0.28   2080.25      1.00\n",
      "          bB      0.49      0.24      0.50      0.09      0.86    729.81      1.00\n",
      "          bM     -0.54      0.21     -0.54     -0.87     -0.20    919.95      1.00\n",
      "          nu     -0.04      0.21     -0.04     -0.38      0.27   1775.37      1.00\n",
      "       sigma      0.85      0.14      0.84      0.61      1.05    967.09      1.00\n",
      "     sigma_B      1.01      0.18      0.99      0.74      1.26   1186.14      1.00\n",
      "\n",
      "Number of divergences: 0\n"
     ]
    }
   ],
   "source": [
    "m15_5.print_summary(0.89)"
   ]
  },
  {
   "cell_type": "markdown",
   "metadata": {},
   "source": [
    "### Code 15.19"
   ]
  },
  {
   "cell_type": "code",
   "execution_count": 37,
   "metadata": {},
   "outputs": [
    {
     "data": {
      "application/vnd.jupyter.widget-view+json": {
       "model_id": "379fe7eb508142798caaeab4f8374a25",
       "version_major": 2,
       "version_minor": 0
      },
      "text/plain": [
       "  0%|          | 0/1000 [00:00<?, ?it/s]"
      ]
     },
     "metadata": {},
     "output_type": "display_data"
    },
    {
     "data": {
      "application/vnd.jupyter.widget-view+json": {
       "model_id": "20ba661282124595b1dc043cdda1fbbe",
       "version_major": 2,
       "version_minor": 0
      },
      "text/plain": [
       "  0%|          | 0/1000 [00:00<?, ?it/s]"
      ]
     },
     "metadata": {},
     "output_type": "display_data"
    },
    {
     "data": {
      "application/vnd.jupyter.widget-view+json": {
       "model_id": "98e9c9f7296b471c8588627ba0b5925b",
       "version_major": 2,
       "version_minor": 0
      },
      "text/plain": [
       "  0%|          | 0/1000 [00:00<?, ?it/s]"
      ]
     },
     "metadata": {},
     "output_type": "display_data"
    },
    {
     "data": {
      "application/vnd.jupyter.widget-view+json": {
       "model_id": "4967be6d047c4506b5a680590972113b",
       "version_major": 2,
       "version_minor": 0
      },
      "text/plain": [
       "  0%|          | 0/1000 [00:00<?, ?it/s]"
      ]
     },
     "metadata": {},
     "output_type": "display_data"
    },
    {
     "name": "stdout",
     "output_type": "stream",
     "text": [
      "\n",
      "                mean       std    median      5.5%     94.5%     n_eff     r_hat\n",
      "         a      0.10      0.19      0.10     -0.19      0.42   1823.79      1.00\n",
      "        bB      0.60      0.28      0.60      0.19      1.08   1240.89      1.00\n",
      "        bM     -0.64      0.25     -0.64     -1.04     -0.25   1351.63      1.00\n",
      "        nu      0.00      0.23     -0.00     -0.37      0.35   2029.01      1.00\n",
      "     sigma      0.87      0.18      0.84      0.58      1.11   1239.12      1.00\n",
      "   sigma_B      1.04      0.19      1.01      0.76      1.32   1514.11      1.00\n",
      "\n",
      "Number of divergences: 0\n"
     ]
    }
   ],
   "source": [
    "obs_idx = d[\"neocortex.prop\"].notnull().values\n",
    "dat_list_obs = dict(\n",
    "    K=dat_list[\"K\"][obs_idx], B=dat_list[\"B\"][obs_idx], M=dat_list[\"M\"][obs_idx]\n",
    ")\n",
    "\n",
    "\n",
    "def model(B, M, K):\n",
    "    a = numpyro.sample(\"a\", dist.Normal(0, 0.5))\n",
    "    nu = numpyro.sample(\"nu\", dist.Normal(0, 0.5))\n",
    "    bB = numpyro.sample(\"bB\", dist.Normal(0, 0.5))\n",
    "    bM = numpyro.sample(\"bM\", dist.Normal(0, 0.5))\n",
    "    sigma_B = numpyro.sample(\"sigma_B\", dist.Exponential(1))\n",
    "    sigma = numpyro.sample(\"sigma\", dist.Exponential(1))\n",
    "    numpyro.sample(\"B\", dist.Normal(nu, sigma_B), obs=B)\n",
    "    mu = a + bB * B + bM * M\n",
    "    numpyro.sample(\"K\", dist.Normal(mu, sigma), obs=K)\n",
    "\n",
    "\n",
    "m15_6 = MCMC(NUTS(model), num_warmup=500, num_samples=500, num_chains=4)\n",
    "m15_6.run(random.PRNGKey(0), **dat_list_obs)\n",
    "m15_6.print_summary(0.89)"
   ]
  },
  {
   "cell_type": "markdown",
   "metadata": {},
   "source": [
    "### Code 15.20"
   ]
  },
  {
   "cell_type": "code",
   "execution_count": 38,
   "metadata": {},
   "outputs": [
    {
     "data": {
      "image/png": "[encoded data removed]",
      "text/plain": [
       "<Figure size 600x740 with 1 Axes>"
      ]
     },
     "metadata": {},
     "output_type": "display_data"
    }
   ],
   "source": [
    "az.plot_forest(\n",
    "    [az.from_numpyro(m15_5), az.from_numpyro(m15_6)],\n",
    "    model_names=[\"m15.5\", \"m15.6\"],\n",
    "    var_names=[\"bB\", \"bM\"],\n",
    "    combined=True,\n",
    "    hdi_prob=0.89,\n",
    ")\n",
    "plt.show()"
   ]
  },
  {
   "cell_type": "markdown",
   "metadata": {},
   "source": [
    "### Code 15.21"
   ]
  },
  {
   "cell_type": "code",
   "execution_count": 41,
   "metadata": {},
   "outputs": [
    {
     "data": {
      "image/png": "[encoded data removed]",
      "text/plain": [
       "<Figure size 720x480 with 1 Axes>"
      ]
     },
     "metadata": {},
     "output_type": "display_data"
    },
    {
     "data": {
      "image/png": "[encoded data removed]",
      "text/plain": [
       "<Figure size 720x480 with 1 Axes>"
      ]
     },
     "metadata": {},
     "output_type": "display_data"
    }
   ],
   "source": [
    "post = m15_5.get_samples()\n",
    "B_impute_mu = jnp.mean(post[\"B_impute\"], 0)\n",
    "B_impute_ci = jnp.percentile(post[\"B_impute\"], q=jnp.array((5.5, 94.5)), axis=0)\n",
    "\n",
    "# B vs K\n",
    "plt.plot(dat_list[\"B\"], dat_list[\"K\"], \"o\")\n",
    "plt.gca().set(xlabel=\"neocortex percent (std)\", ylabel=\"kcal mild (std)\")\n",
    "miss_idx = pd.isna(dat_list[\"B\"]).nonzero()[0]\n",
    "Ki = dat_list[\"K\"][miss_idx]\n",
    "plt.plot(B_impute_mu, Ki, \"ko\", mfc=\"none\")\n",
    "for i in range(12):\n",
    "    plt.plot(B_impute_ci[:, i], jnp.repeat(Ki[i], 2), \"k\", lw=1)\n",
    "plt.show()\n",
    "\n",
    "# M vs B\n",
    "plt.plot(dat_list[\"M\"], dat_list[\"B\"], \"o\")\n",
    "plt.gca().set(xlabel=\"log body mass (std)\", ylabel=\"neocortex percent (std)\")\n",
    "Mi = dat_list[\"M\"][miss_idx]\n",
    "plt.plot(Mi, B_impute_mu, \"ko\", mfc=\"none\")\n",
    "for i in range(12):\n",
    "    plt.plot(jnp.repeat(Mi[i], 2), B_impute_ci[:, i], \"k\", lw=1)"
   ]
  },
  {
   "cell_type": "markdown",
   "metadata": {},
   "source": [
    "### Code 15.22"
   ]
  },
  {
   "cell_type": "code",
   "execution_count": 40,
   "metadata": {},
   "outputs": [
    {
     "data": {
      "application/vnd.jupyter.widget-view+json": {
       "model_id": "b0fd959bc859408dba87e3fca5e18332",
       "version_major": 2,
       "version_minor": 0
      },
      "text/plain": [
       "  0%|          | 0/1000 [00:00<?, ?it/s]"
      ]
     },
     "metadata": {},
     "output_type": "display_data"
    },
    {
     "data": {
      "application/vnd.jupyter.widget-view+json": {
       "model_id": "2080a13aa85d49a99cc657b916e2a9b2",
       "version_major": 2,
       "version_minor": 0
      },
      "text/plain": [
       "  0%|          | 0/1000 [00:00<?, ?it/s]"
      ]
     },
     "metadata": {},
     "output_type": "display_data"
    },
    {
     "data": {
      "application/vnd.jupyter.widget-view+json": {
       "model_id": "b1c5cb2b424142d4b36b8414db14dd89",
       "version_major": 2,
       "version_minor": 0
      },
      "text/plain": [
       "  0%|          | 0/1000 [00:00<?, ?it/s]"
      ]
     },
     "metadata": {},
     "output_type": "display_data"
    },
    {
     "data": {
      "application/vnd.jupyter.widget-view+json": {
       "model_id": "f8b710fd9e6b465bb8812bb4a30d4f5b",
       "version_major": 2,
       "version_minor": 0
      },
      "text/plain": [
       "  0%|          | 0/1000 [00:00<?, ?it/s]"
      ]
     },
     "metadata": {},
     "output_type": "display_data"
    },
    {
     "name": "stdout",
     "output_type": "stream",
     "text": [
      "\n",
      "                 mean       std    median      5.0%     95.0%     n_eff     r_hat\n",
      "Rho_BM[0,0]      1.00      0.00      1.00      1.00      1.00       nan       nan\n",
      "Rho_BM[0,1]      0.61      0.13      0.62      0.41      0.81   1101.65      1.00\n",
      "Rho_BM[1,0]      0.61      0.13      0.62      0.41      0.81   1101.65      1.00\n",
      "Rho_BM[1,1]      1.00      0.00      1.00      1.00      1.00    305.60      1.00\n",
      "         bB      0.59      0.25      0.60      0.18      1.01   1067.18      1.00\n",
      "         bM     -0.65      0.22     -0.65     -0.99     -0.30   1022.88      1.00\n",
      "\n"
     ]
    }
   ],
   "source": [
    "def model(B, M, K):\n",
    "    # priors\n",
    "    a = numpyro.sample(\"a\", dist.Normal(0, 0.5))\n",
    "    muB = numpyro.sample(\"muB\", dist.Normal(0, 0.5))\n",
    "    muM = numpyro.sample(\"muM\", dist.Normal(0, 0.5))\n",
    "    bB = numpyro.sample(\"bB\", dist.Normal(0, 0.5))\n",
    "    bM = numpyro.sample(\"bM\", dist.Normal(0, 0.5))\n",
    "    sigma = numpyro.sample(\"sigma\", dist.Exponential(1))\n",
    "    Rho_BM = numpyro.sample(\"Rho_BM\", dist.LKJ(2, 2))\n",
    "    Sigma_BM = numpyro.sample(\"Sigma_BM\", dist.Exponential(1).expand([2]))\n",
    "\n",
    "    # define B_merge as mix of observed and imputed values\n",
    "    B_impute = numpyro.sample(\n",
    "        \"B_impute\", dist.Normal(0, 1).expand([int(np.isnan(B).sum())]).mask(False)\n",
    "    )\n",
    "    B_merge = jnp.asarray(B).at[np.isnan(B)].set(B_impute)\n",
    "\n",
    "    # M and B correlation\n",
    "    MB = jnp.stack([M, B_merge], axis=1)\n",
    "    cov = jnp.outer(Sigma_BM, Sigma_BM) * Rho_BM\n",
    "    numpyro.sample(\"MB\", dist.MultivariateNormal(jnp.stack([muM, muB]), cov), obs=MB)\n",
    "\n",
    "    # K as function of B and M\n",
    "    mu = a + bB * B_merge + bM * M\n",
    "    numpyro.sample(\"K\", dist.Normal(mu, sigma), obs=K)\n",
    "\n",
    "\n",
    "m15_7 = MCMC(NUTS(model), num_warmup=500, num_samples=500, num_chains=4)\n",
    "m15_7.run(random.PRNGKey(0), **dat_list)\n",
    "post = m15_7.get_samples(group_by_chain=True)\n",
    "print_summary({k: v for k, v in post.items() if k in [\"bM\", \"bB\", \"Rho_BM\"]})"
   ]
  },
  {
   "cell_type": "markdown",
   "metadata": {},
   "source": [
    "### Code 15.23"
   ]
  },
  {
   "cell_type": "code",
   "execution_count": 42,
   "metadata": {},
   "outputs": [],
   "source": [
    "B_missidx = pd.isna(dat_list[\"B\"]).nonzero()[0]"
   ]
  },
  {
   "cell_type": "markdown",
   "metadata": {},
   "source": [
    "### Code 15.24"
   ]
  },
  {
   "cell_type": "code",
   "execution_count": 25,
   "metadata": {},
   "outputs": [
    {
     "data": {
      "text/html": [
       "<div>\n",
       "<style scoped>\n",
       "    .dataframe tbody tr th:only-of-type {\n",
       "        vertical-align: middle;\n",
       "    }\n",
       "\n",
       "    .dataframe tbody tr th {\n",
       "        vertical-align: top;\n",
       "    }\n",
       "\n",
       "    .dataframe thead th {\n",
       "        text-align: right;\n",
       "    }\n",
       "</style>\n",
       "<table border=\"1\" class=\"dataframe\">\n",
       "  <thead>\n",
       "    <tr style=\"text-align: right;\">\n",
       "      <th></th>\n",
       "      <th>polity</th>\n",
       "      <th>year</th>\n",
       "      <th>population</th>\n",
       "      <th>moralizing_gods</th>\n",
       "      <th>writing</th>\n",
       "    </tr>\n",
       "  </thead>\n",
       "  <tbody>\n",
       "    <tr>\n",
       "      <th>0</th>\n",
       "      <td>Big Island Hawaii</td>\n",
       "      <td>1000</td>\n",
       "      <td>3.729643</td>\n",
       "      <td>NaN</td>\n",
       "      <td>0</td>\n",
       "    </tr>\n",
       "    <tr>\n",
       "      <th>1</th>\n",
       "      <td>Big Island Hawaii</td>\n",
       "      <td>1100</td>\n",
       "      <td>3.729643</td>\n",
       "      <td>NaN</td>\n",
       "      <td>0</td>\n",
       "    </tr>\n",
       "    <tr>\n",
       "      <th>2</th>\n",
       "      <td>Big Island Hawaii</td>\n",
       "      <td>1200</td>\n",
       "      <td>3.598340</td>\n",
       "      <td>NaN</td>\n",
       "      <td>0</td>\n",
       "    </tr>\n",
       "    <tr>\n",
       "      <th>3</th>\n",
       "      <td>Big Island Hawaii</td>\n",
       "      <td>1300</td>\n",
       "      <td>4.026240</td>\n",
       "      <td>NaN</td>\n",
       "      <td>0</td>\n",
       "    </tr>\n",
       "    <tr>\n",
       "      <th>4</th>\n",
       "      <td>Big Island Hawaii</td>\n",
       "      <td>1400</td>\n",
       "      <td>4.311767</td>\n",
       "      <td>NaN</td>\n",
       "      <td>0</td>\n",
       "    </tr>\n",
       "    <tr>\n",
       "      <th>...</th>\n",
       "      <td>...</td>\n",
       "      <td>...</td>\n",
       "      <td>...</td>\n",
       "      <td>...</td>\n",
       "      <td>...</td>\n",
       "    </tr>\n",
       "    <tr>\n",
       "      <th>859</th>\n",
       "      <td>Yemeni Coastal Plain</td>\n",
       "      <td>1400</td>\n",
       "      <td>6.763083</td>\n",
       "      <td>1.0</td>\n",
       "      <td>1</td>\n",
       "    </tr>\n",
       "    <tr>\n",
       "      <th>860</th>\n",
       "      <td>Yemeni Coastal Plain</td>\n",
       "      <td>1500</td>\n",
       "      <td>6.519621</td>\n",
       "      <td>1.0</td>\n",
       "      <td>1</td>\n",
       "    </tr>\n",
       "    <tr>\n",
       "      <th>861</th>\n",
       "      <td>Konya Plain</td>\n",
       "      <td>1600</td>\n",
       "      <td>7.447158</td>\n",
       "      <td>1.0</td>\n",
       "      <td>1</td>\n",
       "    </tr>\n",
       "    <tr>\n",
       "      <th>862</th>\n",
       "      <td>Yemeni Coastal Plain</td>\n",
       "      <td>1700</td>\n",
       "      <td>3.882606</td>\n",
       "      <td>1.0</td>\n",
       "      <td>1</td>\n",
       "    </tr>\n",
       "    <tr>\n",
       "      <th>863</th>\n",
       "      <td>Yemeni Coastal Plain</td>\n",
       "      <td>1800</td>\n",
       "      <td>3.882606</td>\n",
       "      <td>1.0</td>\n",
       "      <td>1</td>\n",
       "    </tr>\n",
       "  </tbody>\n",
       "</table>\n",
       "<p>864 rows × 5 columns</p>\n",
       "</div>"
      ],
      "text/plain": [
       "                   polity  year  population  moralizing_gods  writing\n",
       "0       Big Island Hawaii  1000    3.729643              NaN        0\n",
       "1       Big Island Hawaii  1100    3.729643              NaN        0\n",
       "2       Big Island Hawaii  1200    3.598340              NaN        0\n",
       "3       Big Island Hawaii  1300    4.026240              NaN        0\n",
       "4       Big Island Hawaii  1400    4.311767              NaN        0\n",
       "..                    ...   ...         ...              ...      ...\n",
       "859  Yemeni Coastal Plain  1400    6.763083              1.0        1\n",
       "860  Yemeni Coastal Plain  1500    6.519621              1.0        1\n",
       "861           Konya Plain  1600    7.447158              1.0        1\n",
       "862  Yemeni Coastal Plain  1700    3.882606              1.0        1\n",
       "863  Yemeni Coastal Plain  1800    3.882606              1.0        1\n",
       "\n",
       "[864 rows x 5 columns]"
      ]
     },
     "execution_count": 25,
     "metadata": {},
     "output_type": "execute_result"
    }
   ],
   "source": [
    "Moralizing_gods = pd.read_csv(\"../data/Moralizing_gods.csv\", sep=\";\")\n",
    "Moralizing_gods"
   ]
  },
  {
   "cell_type": "markdown",
   "metadata": {},
   "source": [
    "### Code 15.25"
   ]
  },
  {
   "cell_type": "code",
   "execution_count": 26,
   "metadata": {},
   "outputs": [
    {
     "data": {
      "text/plain": [
       "NaN    528\n",
       "1.0    319\n",
       "0.0     17\n",
       "Name: moralizing_gods, dtype: int64"
      ]
     },
     "execution_count": 26,
     "metadata": {},
     "output_type": "execute_result"
    }
   ],
   "source": [
    "Moralizing_gods.moralizing_gods.value_counts(dropna=False)"
   ]
  },
  {
   "cell_type": "markdown",
   "metadata": {},
   "source": [
    "### Code 15.26"
   ]
  },
  {
   "cell_type": "code",
   "execution_count": 27,
   "metadata": {},
   "outputs": [
    {
     "data": {
      "image/png": "[encoded data removed]",
      "text/plain": [
       "<Figure size 720x480 with 1 Axes>"
      ]
     },
     "metadata": {},
     "output_type": "display_data"
    }
   ],
   "source": [
    "symbol = Moralizing_gods.moralizing_gods.apply(lambda x: \".\" if x == 1 else \"o\")\n",
    "symbol[Moralizing_gods.moralizing_gods.isna()] = \"x\"\n",
    "color = Moralizing_gods.moralizing_gods.apply(lambda x: \"k\" if pd.isna(x) else \"b\")\n",
    "for pch in [\"o\", \".\", \"x\"]:\n",
    "    plt.scatter(\n",
    "        Moralizing_gods.year[symbol == pch],\n",
    "        Moralizing_gods.population[symbol == pch],\n",
    "        marker=pch,\n",
    "        color=color[symbol == pch],\n",
    "        facecolor=\"none\" if pch == \"o\" else None,\n",
    "        lw=1.5,\n",
    "        alpha=0.7,\n",
    "    )\n",
    "plt.gca().set(xlabel=\"Time (year)\", ylabel=\"Population size\")\n",
    "plt.show()"
   ]
  },
  {
   "cell_type": "markdown",
   "metadata": {},
   "source": [
    "### Code 15.27"
   ]
  },
  {
   "cell_type": "code",
   "execution_count": 28,
   "metadata": {},
   "outputs": [
    {
     "data": {
      "text/html": [
       "<div>\n",
       "<style scoped>\n",
       "    .dataframe tbody tr th:only-of-type {\n",
       "        vertical-align: middle;\n",
       "    }\n",
       "\n",
       "    .dataframe tbody tr th {\n",
       "        vertical-align: top;\n",
       "    }\n",
       "\n",
       "    .dataframe thead th {\n",
       "        text-align: right;\n",
       "    }\n",
       "</style>\n",
       "<table border=\"1\" class=\"dataframe\">\n",
       "  <thead>\n",
       "    <tr style=\"text-align: right;\">\n",
       "      <th>writing</th>\n",
       "      <th>0</th>\n",
       "      <th>1</th>\n",
       "    </tr>\n",
       "    <tr>\n",
       "      <th>moralizing_gods</th>\n",
       "      <th></th>\n",
       "      <th></th>\n",
       "    </tr>\n",
       "  </thead>\n",
       "  <tbody>\n",
       "    <tr>\n",
       "      <th>0.0</th>\n",
       "      <td>16</td>\n",
       "      <td>1</td>\n",
       "    </tr>\n",
       "    <tr>\n",
       "      <th>1.0</th>\n",
       "      <td>9</td>\n",
       "      <td>310</td>\n",
       "    </tr>\n",
       "    <tr>\n",
       "      <th>nan</th>\n",
       "      <td>442</td>\n",
       "      <td>86</td>\n",
       "    </tr>\n",
       "  </tbody>\n",
       "</table>\n",
       "</div>"
      ],
      "text/plain": [
       "writing            0    1\n",
       "moralizing_gods          \n",
       "0.0               16    1\n",
       "1.0                9  310\n",
       "nan              442   86"
      ]
     },
     "execution_count": 28,
     "metadata": {},
     "output_type": "execute_result"
    }
   ],
   "source": [
    "dmg = Moralizing_gods\n",
    "dmg.astype(str).groupby([\"moralizing_gods\", \"writing\"]).size().unstack(fill_value=0)"
   ]
  },
  {
   "cell_type": "markdown",
   "metadata": {},
   "source": [
    "### Code 15.28"
   ]
  },
  {
   "cell_type": "code",
   "execution_count": 29,
   "metadata": {},
   "outputs": [
    {
     "data": {
      "text/html": [
       "<div>\n",
       "<style scoped>\n",
       "    .dataframe tbody tr th:only-of-type {\n",
       "        vertical-align: middle;\n",
       "    }\n",
       "\n",
       "    .dataframe tbody tr th {\n",
       "        vertical-align: top;\n",
       "    }\n",
       "\n",
       "    .dataframe thead th {\n",
       "        text-align: right;\n",
       "    }\n",
       "</style>\n",
       "<table border=\"1\" class=\"dataframe\">\n",
       "  <thead>\n",
       "    <tr style=\"text-align: right;\">\n",
       "      <th></th>\n",
       "      <th>0</th>\n",
       "      <th>1</th>\n",
       "      <th>2</th>\n",
       "      <th>3</th>\n",
       "      <th>4</th>\n",
       "      <th>5</th>\n",
       "      <th>6</th>\n",
       "      <th>7</th>\n",
       "      <th>8</th>\n",
       "    </tr>\n",
       "  </thead>\n",
       "  <tbody>\n",
       "    <tr>\n",
       "      <th>year</th>\n",
       "      <td>1000.00</td>\n",
       "      <td>1100.00</td>\n",
       "      <td>1200.000</td>\n",
       "      <td>1300.000</td>\n",
       "      <td>1400.000</td>\n",
       "      <td>1500.000</td>\n",
       "      <td>1600.000</td>\n",
       "      <td>1700.000</td>\n",
       "      <td>1800.000</td>\n",
       "    </tr>\n",
       "    <tr>\n",
       "      <th>population</th>\n",
       "      <td>3.73</td>\n",
       "      <td>3.73</td>\n",
       "      <td>3.598</td>\n",
       "      <td>4.026</td>\n",
       "      <td>4.312</td>\n",
       "      <td>4.205</td>\n",
       "      <td>4.374</td>\n",
       "      <td>5.158</td>\n",
       "      <td>4.997</td>\n",
       "    </tr>\n",
       "    <tr>\n",
       "      <th>writing</th>\n",
       "      <td>0.00</td>\n",
       "      <td>0.00</td>\n",
       "      <td>0.000</td>\n",
       "      <td>0.000</td>\n",
       "      <td>0.000</td>\n",
       "      <td>0.000</td>\n",
       "      <td>0.000</td>\n",
       "      <td>0.000</td>\n",
       "      <td>0.000</td>\n",
       "    </tr>\n",
       "    <tr>\n",
       "      <th>moralizing_gods</th>\n",
       "      <td>NaN</td>\n",
       "      <td>NaN</td>\n",
       "      <td>NaN</td>\n",
       "      <td>NaN</td>\n",
       "      <td>NaN</td>\n",
       "      <td>NaN</td>\n",
       "      <td>NaN</td>\n",
       "      <td>NaN</td>\n",
       "      <td>1.000</td>\n",
       "    </tr>\n",
       "  </tbody>\n",
       "</table>\n",
       "</div>"
      ],
      "text/plain": [
       "                       0        1         2         3         4         5  \\\n",
       "year             1000.00  1100.00  1200.000  1300.000  1400.000  1500.000   \n",
       "population          3.73     3.73     3.598     4.026     4.312     4.205   \n",
       "writing             0.00     0.00     0.000     0.000     0.000     0.000   \n",
       "moralizing_gods      NaN      NaN       NaN       NaN       NaN       NaN   \n",
       "\n",
       "                        6         7         8  \n",
       "year             1600.000  1700.000  1800.000  \n",
       "population          4.374     5.158     4.997  \n",
       "writing             0.000     0.000     0.000  \n",
       "moralizing_gods       NaN       NaN     1.000  "
      ]
     },
     "execution_count": 29,
     "metadata": {},
     "output_type": "execute_result"
    }
   ],
   "source": [
    "dmg = Moralizing_gods\n",
    "haw = dmg.polity == \"Big Island Hawaii\"\n",
    "dmg.loc[haw, [\"year\", \"population\", \"writing\", \"moralizing_gods\"]].T.round(3)"
   ]
  },
  {
   "cell_type": "markdown",
   "metadata": {},
   "source": [
    "### Code 15.29"
   ]
  },
  {
   "cell_type": "code",
   "execution_count": 43,
   "metadata": {},
   "outputs": [],
   "source": [
    "with numpyro.handlers.seed(rng_seed=9):\n",
    "    N_houses = 100\n",
    "    alpha = 5\n",
    "    beta = -3\n",
    "    k = 0.5\n",
    "    r = 0.2\n",
    "    cat = numpyro.sample(\"cat\", dist.Bernoulli(k).expand([N_houses]))\n",
    "    notes = numpyro.sample(\"notes\", dist.Poisson(alpha + beta * cat))\n",
    "    R_C = numpyro.sample(\"R_C\", dist.Bernoulli(r).expand([N_houses]))\n",
    "    cat_obs = jnp.where(R_C == 1, -9, cat)"
   ]
  },
  {
   "cell_type": "markdown",
   "metadata": {},
   "source": [
    "### Code 15.30"
   ]
  },
  {
   "cell_type": "code",
   "execution_count": 31,
   "metadata": {},
   "outputs": [],
   "source": [
    "dat = dict(notes=notes, cat=cat_obs.copy(), RC=R_C.copy(), N=N_houses - 1)\n",
    "\n",
    "\n",
    "def model(N, RC, cat, notes):\n",
    "    # priors\n",
    "    a = numpyro.sample(\"a\", dist.Normal(0, 1))\n",
    "    b = numpyro.sample(\"b\", dist.Normal(0, 0.5))\n",
    "\n",
    "    # sneaking cat model\n",
    "    k = numpyro.sample(\"k\", dist.Beta(2, 2))\n",
    "    numpyro.sample(\"cat|RC==0\", dist.Bernoulli(k), obs=cat[RC == 0])\n",
    "\n",
    "    # singing bird model\n",
    "    # cat NA:\n",
    "    custom_logprob = jnp.logaddexp(\n",
    "        jnp.log(k) + dist.Poisson(jnp.exp(a + b)).log_prob(notes[RC == 1]),\n",
    "        jnp.log(1 - k) + dist.Poisson(jnp.exp(a)).log_prob(notes[RC == 1]),\n",
    "    )\n",
    "    numpyro.factor(\"notes|RC==1\", custom_logprob)\n",
    "    # cat known present/absent:\n",
    "    lambda_ = jnp.exp(a + b * cat[RC == 0])\n",
    "    numpyro.sample(\"notes|RC==0\", dist.Poisson(lambda_), obs=notes[RC == 0])\n",
    "\n",
    "\n",
    "m15_8 = MCMC(NUTS(model), num_warmup=500, num_samples=500, num_chains=4)\n",
    "m15_8.run(random.PRNGKey(0), **dat)"
   ]
  },
  {
   "cell_type": "markdown",
   "metadata": {},
   "source": [
    "### Code 15.31"
   ]
  },
  {
   "cell_type": "code",
   "execution_count": 32,
   "metadata": {},
   "outputs": [],
   "source": [
    "def model(N, RC, cat, notes, link=False):\n",
    "    a = numpyro.sample(\"a\", dist.Normal(0, 1))\n",
    "    b = numpyro.sample(\"b\", dist.Normal(0, 0.5))\n",
    "\n",
    "    # sneaking cat model\n",
    "    k = numpyro.sample(\"k\", dist.Beta(2, 2))\n",
    "    numpyro.sample(\"cat|RC==0\", dist.Bernoulli(k), obs=cat[RC == 0])\n",
    "\n",
    "    # singing bird model\n",
    "    custom_logprob = jnp.logaddexp(\n",
    "        jnp.log(k) + dist.Poisson(jnp.exp(a + b)).log_prob(notes[RC == 1]),\n",
    "        jnp.log(1 - k) + dist.Poisson(jnp.exp(a)).log_prob(notes[RC == 1]),\n",
    "    )\n",
    "    numpyro.factor(\"notes|RC==1\", custom_logprob)\n",
    "    lambda_ = jnp.exp(a + b * cat[RC == 0])\n",
    "    numpyro.sample(\"notes|RC==0\", dist.Poisson(lambda_), obs=notes[RC == 0])\n",
    "\n",
    "    if link:\n",
    "        lpC0 = numpyro.deterministic(\n",
    "            \"lpC0\", jnp.log(1 - k) + dist.Poisson(jnp.exp(a)).log_prob(notes)\n",
    "        )\n",
    "        lpC1 = numpyro.deterministic(\n",
    "            \"lpC1\", jnp.log(k) + dist.Poisson(jnp.exp(a + b)).log_prob(notes)\n",
    "        )\n",
    "        numpyro.deterministic(\"PrC1\", jnp.exp(lpC1) / (jnp.exp(lpC1) + jnp.exp(lpC0)))\n",
    "\n",
    "\n",
    "m15_9 = MCMC(NUTS(model), 500, 500, num_chains=4)\n",
    "m15_9.run(random.PRNGKey(0), **dat)"
   ]
  },
  {
   "cell_type": "markdown",
   "metadata": {},
   "source": [
    "### Code 15.32"
   ]
  },
  {
   "cell_type": "code",
   "execution_count": 33,
   "metadata": {},
   "outputs": [],
   "source": [
    "with numpyro.handlers.seed(rng_seed=100):\n",
    "    x = numpyro.sample(\"x\", dist.Normal().expand([10]))\n",
    "    y = numpyro.sample(\"y\", dist.Normal(x))\n",
    "    x = jnp.concatenate([x, jnp.array([jnp.nan])])\n",
    "    y = jnp.concatenate([y, jnp.array([100])])\n",
    "    d = dict(x=x, y=y)"
   ]
  },
  {
   "cell_type": "markdown",
   "metadata": {},
   "source": [
    "### Code 15.33"
   ]
  },
  {
   "cell_type": "code",
   "execution_count": 34,
   "metadata": {},
   "outputs": [],
   "source": [
    "Primates301 = pd.read_csv(\"../data/Primates301.csv\", sep=\";\")\n",
    "d = Primates301\n",
    "cc = d.dropna(subset=[\"brain\", \"body\"]).index\n",
    "B = d.brain[cc]\n",
    "M = d.body[cc]\n",
    "B = B.values / max(B)\n",
    "M = M.values / max(M)"
   ]
  },
  {
   "cell_type": "markdown",
   "metadata": {},
   "source": [
    "### Code 15.34"
   ]
  },
  {
   "cell_type": "code",
   "execution_count": 35,
   "metadata": {},
   "outputs": [],
   "source": [
    "Bse = B * 0.1\n",
    "Mse = M * 0.1"
   ]
  },
  {
   "cell_type": "markdown",
   "metadata": {},
   "source": [
    "### Code 15.35"
   ]
  },
  {
   "cell_type": "code",
   "execution_count": 36,
   "metadata": {},
   "outputs": [
    {
     "name": "stderr",
     "output_type": "stream",
     "text": [
      "sample: 100%|██████████| 1000/1000 [00:06<00:00, 158.50it/s, 7 steps of size 2.37e-01. acc. prob=0.95]\n"
     ]
    }
   ],
   "source": [
    "dat_list = dict(B=B, M=M)\n",
    "\n",
    "\n",
    "def model(M, B):\n",
    "    a = numpyro.sample(\"a\", dist.Normal(0, 1))\n",
    "    b = numpyro.sample(\"b\", dist.Normal(0, 1))\n",
    "    sigma = numpyro.sample(\"sigma\", dist.Exponential(1))\n",
    "    mu = a + b * jnp.log(M)\n",
    "    numpyro.sample(\"B\", dist.LogNormal(mu, sigma), obs=B)\n",
    "\n",
    "\n",
    "m15H4 = MCMC(NUTS(model), 500, 500)\n",
    "m15H4.run(random.PRNGKey(0), **dat_list)"
   ]
  },
  {
   "cell_type": "markdown",
   "metadata": {},
   "source": [
    "### Code 15.36"
   ]
  },
  {
   "cell_type": "code",
   "execution_count": 37,
   "metadata": {},
   "outputs": [],
   "source": [
    "start = dict(M_true=dat_list[\"M\"], B_true=dat_list[\"B\"])\n",
    "init_strategy = init_to_value(values=start)"
   ]
  },
  {
   "cell_type": "markdown",
   "metadata": {},
   "source": [
    "### Code 15.37"
   ]
  },
  {
   "cell_type": "code",
   "execution_count": 38,
   "metadata": {},
   "outputs": [
    {
     "data": {
      "text/plain": [
       "name                     0\n",
       "genus                    0\n",
       "species                  0\n",
       "subspecies             267\n",
       "spp_id                   0\n",
       "genus_id                 0\n",
       "social_learning         98\n",
       "research_effort        115\n",
       "brain                  117\n",
       "body                    63\n",
       "group_size             114\n",
       "gestation              161\n",
       "weaning                185\n",
       "longevity              181\n",
       "sex_maturity           194\n",
       "maternal_investment    197\n",
       "dtype: int64"
      ]
     },
     "execution_count": 38,
     "metadata": {},
     "output_type": "execute_result"
    }
   ],
   "source": [
    "Primates301 = pd.read_csv(\"../data/Primates301.csv\", sep=\";\")\n",
    "d = Primates301\n",
    "d.isna().sum()"
   ]
  },
  {
   "cell_type": "markdown",
   "metadata": {},
   "source": [
    "### Code 15.38"
   ]
  },
  {
   "cell_type": "code",
   "execution_count": 39,
   "metadata": {},
   "outputs": [],
   "source": [
    "cc = d.dropna(subset=[\"body\"]).index\n",
    "M = d.body[cc]\n",
    "M = M.values / max(M)\n",
    "B = d.brain[cc]\n",
    "B = B.values / B.max(skipna=True)"
   ]
  },
  {
   "cell_type": "markdown",
   "metadata": {},
   "source": [
    "### Code 15.39"
   ]
  },
  {
   "cell_type": "code",
   "execution_count": 40,
   "metadata": {},
   "outputs": [],
   "source": [
    "start = dict(B_impute=jnp.repeat(0.5, 56))\n",
    "init_strategy = init_to_value(values=start)"
   ]
  }
 ],
 "metadata": {
  "kernelspec": {
   "display_name": "Python 3 (ipykernel)",
   "language": "python",
   "name": "python3"
  },
  "language_info": {
   "codemirror_mode": {
    "name": "ipython",
    "version": 3
   },
   "file_extension": ".py",
   "mimetype": "text/x-python",
   "name": "python",
   "nbconvert_exporter": "python",
   "pygments_lexer": "ipython3",
   "version": "3.9.16"
  }
 },
 "nbformat": 4,
 "nbformat_minor": 4
}
